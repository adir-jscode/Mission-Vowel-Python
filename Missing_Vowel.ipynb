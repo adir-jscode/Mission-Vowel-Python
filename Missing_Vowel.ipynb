{
 "cells": [
  {
   "cell_type": "code",
   "execution_count": 15,
   "id": "938c75a5",
   "metadata": {},
   "outputs": [],
   "source": [
    "import os\n",
    "import random\n",
    "import time"
   ]
  },
  {
   "cell_type": "code",
   "execution_count": 2,
   "id": "37d51148",
   "metadata": {},
   "outputs": [],
   "source": [
    "USER_DATA_FILE = \"user_data.txt\"\n",
    "SCORES_FILE = \"scores.txt\""
   ]
  },
  {
   "cell_type": "code",
   "execution_count": 3,
   "id": "d9b1acf2",
   "metadata": {},
   "outputs": [],
   "source": [
    "def load_data(file_path):\n",
    "    if not os.path.exists(file_path):\n",
    "        return {}\n",
    "    data = {}\n",
    "    with open(file_path, \"r\") as file:\n",
    "        for line in file:\n",
    "            key, value = line.strip().split(\":\")\n",
    "            data[key] = int(value) if file_path == SCORES_FILE else value\n",
    "    return data"
   ]
  },
  {
   "cell_type": "code",
   "execution_count": 4,
   "id": "2e010910",
   "metadata": {},
   "outputs": [],
   "source": [
    "def save_data(file_path, data):\n",
    "    with open(file_path, \"w\") as file:\n",
    "        for key, value in data.items():\n",
    "            file.write(f\"{key}:{value}\\n\")"
   ]
  },
  {
   "cell_type": "code",
   "execution_count": 5,
   "id": "5f3eaad9",
   "metadata": {},
   "outputs": [],
   "source": [
    "user_data = load_data(USER_DATA_FILE)\n",
    "scores = load_data(SCORES_FILE)\n",
    "admin_credentials = {\"username\": \"admin\", \"password\": \"admin\"}"
   ]
  },
  {
   "cell_type": "code",
   "execution_count": 6,
   "id": "f494ded6",
   "metadata": {},
   "outputs": [],
   "source": [
    "def register_user():\n",
    "    username = input(\"Enter a new username: \")\n",
    "    if username in user_data:\n",
    "        print(\"Username already exists! Please try logging in.\")\n",
    "        return None\n",
    "    password = input(\"Enter a new password: \")\n",
    "    user_data[username] = password\n",
    "    scores[username] = 0\n",
    "    save_data(USER_DATA_FILE, user_data)\n",
    "    save_data(SCORES_FILE, scores)\n",
    "    print(\"Registration successful! Please log in.\")"
   ]
  },
  {
   "cell_type": "code",
   "execution_count": 14,
   "id": "0c6b7a53",
   "metadata": {},
   "outputs": [],
   "source": [
    "def login_user():\n",
    "    username = input(\"Enter username: \")\n",
    "    password = input(\"Enter password: \")\n",
    "    if username not in user_data:\n",
    "        print(f\"Invalid username\")\n",
    "    elif username in user_data and user_data[username] == password:\n",
    "        print(f\"Welcome, {username}!\\n\")\n",
    "        return username\n",
    "    else:\n",
    "        print(\"Invalid credentials! Please try again or register.\")\n",
    "        return None"
   ]
  },
  {
   "cell_type": "code",
   "execution_count": 8,
   "id": "2c8351e9",
   "metadata": {},
   "outputs": [],
   "source": [
    "def admin_operations():\n",
    "    print(\"\\nAdmin Panel\")\n",
    "    while True:\n",
    "        print(\"1. View Leaderboard\\n2. Edit User Information\\n3. Logout\")\n",
    "        choice = input(\"Select an option: \")\n",
    "        if choice == \"1\":\n",
    "            print(\"\\nLeaderboard:\")\n",
    "            sorted_scores = sorted(scores.items(), key=lambda x: x[1], reverse=True)\n",
    "            for user, score in sorted_scores:\n",
    "                print(f\"Username: {user}, Score: {score}\")\n",
    "        elif choice == \"2\":\n",
    "            username_to_edit = input(\"Enter the username to edit: \")\n",
    "            if username_to_edit in user_data:\n",
    "                new_password = input(f\"Enter new password for {username_to_edit}: \")\n",
    "                user_data[username_to_edit] = new_password\n",
    "                save_data(USER_DATA_FILE, user_data)\n",
    "                print(\"User information updated successfully.\")\n",
    "            else:\n",
    "                print(\"User not found!\")\n",
    "        elif choice == \"3\":\n",
    "            print(\"Logging out from Admin Panel...\\n\")\n",
    "            break\n",
    "        else:\n",
    "            print(\"Invalid choice. Try again.\")"
   ]
  },
  {
   "cell_type": "code",
   "execution_count": 9,
   "id": "62b4d565",
   "metadata": {},
   "outputs": [],
   "source": [
    "WORDS_WITHOUT_VOWELS = {\n",
    "    \"apple\": \"ppl\", \"banana\": \"bnn\", \"cherry\": \"chrry\", \"date\": \"dt\",\n",
    "    \"grape\": \"grp\", \"kiwi\": \"kw\", \"lime\": \"lm\", \"mango\": \"mng\",\n",
    "    \"melon\": \"mln\", \"orange\": \"rng\", \"peach\": \"pch\", \"pear\": \"pr\",\n",
    "    \"plum\": \"plm\", \"berry\": \"brry\", \"papaya\": \"ppy\", \"fig\": \"fg\",\n",
    "    \"apricot\": \"prct\", \"guava\": \"gv\", \"pineapple\": \"pnpple\", \"durian\": \"drn\",\n",
    "    \"jackfruit\": \"jckfrt\", \"nectarine\": \"nctrn\", \"persimmon\": \"prsmn\",\n",
    "    \"pomegranate\": \"pmgrnt\", \"watermelon\": \"wtrmln\", \"avocado\": \"vcd\",\n",
    "    \"coconut\": \"ccnt\", \"blueberry\": \"blbrry\", \"raspberry\": \"rspbrry\",\n",
    "    \"blackberry\": \"blckbrry\", \"lychee\": \"lych\", \"elderberry\": \"ldrbrry\",\n",
    "    \"starfruit\": \"strfrt\", \"grapefruit\": \"grpfrt\", \"lemon\": \"lmn\"\n",
    "}"
   ]
  },
  {
   "cell_type": "code",
   "execution_count": 23,
   "id": "9f3daf23",
   "metadata": {},
   "outputs": [],
   "source": [
    "def play_game(username):\n",
    "    print(\"\\nWelcome to the Missing Vowels Game!\")\n",
    "    words = random.sample(list(WORDS_WITHOUT_VOWELS.keys()), 5)\n",
    "    correct_guesses = 0\n",
    "    start_time = time.time()\n",
    "\n",
    "    for word in words:\n",
    "        elapsed_time = time.time() - start_time\n",
    "        remaining_time = 120 - elapsed_time\n",
    "        if remaining_time <= 0:\n",
    "            print(\"\\nTime's up! GAME OVER.\")\n",
    "            break\n",
    "\n",
    "        print(f\"\\nTime remaining: {int(remaining_time)} seconds\")\n",
    "        scrambled = WORDS_WITHOUT_VOWELS[word]\n",
    "        print(f\"Word with missing vowels: {scrambled}\")\n",
    "        guess = input(\"Guess the word: \").strip().lower()\n",
    "\n",
    "        if guess == word:\n",
    "            print(\"Correct!\")\n",
    "            correct_guesses += 1\n",
    "        else:\n",
    "            print(f\"Incorrect! The correct word was: {word}\")\n",
    "\n",
    "    scores[username] += correct_guesses\n",
    "    save_data(SCORES_FILE, scores)\n",
    "    print(f\"\\nYour total score: {scores[username]}\\n\")"
   ]
  },
  {
   "cell_type": "code",
   "execution_count": 24,
   "id": "6e2f5167",
   "metadata": {},
   "outputs": [],
   "source": [
    "def user_home(username):\n",
    "    while True:\n",
    "        print(\"\\nHome Page\")\n",
    "        print(\"1. Play Missing Vowels Game\\n2. View Score\\n3. Logout\")\n",
    "        choice = input(\"Select an option: \")\n",
    "        if choice == \"1\":\n",
    "            play_game(username)\n",
    "        elif choice == \"2\":\n",
    "            print(f\"\\nYour total score: {scores[username]}\\n\")\n",
    "        elif choice == \"3\":\n",
    "            print(\"Logging out...\\n\")\n",
    "            break\n",
    "        else:\n",
    "            print(\"Invalid choice. Try again.\")"
   ]
  },
  {
   "cell_type": "code",
   "execution_count": 25,
   "id": "27bd8fb6",
   "metadata": {},
   "outputs": [],
   "source": [
    "def main():\n",
    "    print(\"Welcome to the Missing Vowels System!\")\n",
    "    while True:\n",
    "        print(\"\\n1. Login\\n2. Register\\n3. Admin Login\\n4. Exit\")\n",
    "        choice = input(\"Select an option: \")\n",
    "        if choice == \"1\":\n",
    "            username = login_user()\n",
    "            if username:\n",
    "                user_home(username)\n",
    "        elif choice == \"2\":\n",
    "            register_user()\n",
    "        elif choice == \"3\":\n",
    "            admin_username = input(\"Enter admin username: \")\n",
    "            admin_password = input(\"Enter admin password: \")\n",
    "            if admin_username == admin_credentials[\"username\"] and admin_password == admin_credentials[\"password\"]:\n",
    "                admin_operations()\n",
    "            else:\n",
    "                print(\"Invalid admin credentials!\\n\")\n",
    "        elif choice == \"4\":\n",
    "            print(\"Exiting the system. Goodbye!\")\n",
    "            break\n",
    "        else:\n",
    "            print(\"Invalid choice. Try again.\")"
   ]
  },
  {
   "cell_type": "code",
   "execution_count": 21,
   "id": "fb5bdf4e",
   "metadata": {},
   "outputs": [
    {
     "name": "stdout",
     "output_type": "stream",
     "text": [
      "Welcome to the Missing Vowels System!\n",
      "\n",
      "1. Login\n",
      "2. Register\n",
      "3. Admin Login\n",
      "4. Exit\n",
      "Select an option: 1\n",
      "Enter username: adir\n",
      "Enter password: 2222\n",
      "Welcome, adir!\n",
      "\n",
      "\n",
      "Home Page\n",
      "1. Play Missing Vowels Game\n",
      "2. View Score\n",
      "3. Logout\n",
      "Select an option: 1\n",
      "\n",
      "Welcome to the Missing Vowels Game!\n",
      "\n",
      "Time remaining: 30 seconds\n",
      "Word with missing vowels: dt\n",
      "Guess the word: asdsa\n",
      "Incorrect! The correct word was: date\n",
      "\n",
      "Time remaining: 25 seconds\n",
      "Word with missing vowels: drn\n",
      "Guess the word: yy\n",
      "Incorrect! The correct word was: durian\n",
      "\n",
      "Time remaining: 13 seconds\n",
      "Word with missing vowels: lych\n",
      "Guess the word: pp\n",
      "Incorrect! The correct word was: lychee\n",
      "\n",
      "Time remaining: 9 seconds\n",
      "Word with missing vowels: ppl\n",
      "Guess the word: p\n",
      "Incorrect! The correct word was: apple\n",
      "\n",
      "Time's up! The game will now terminate.\n",
      "\n",
      "Your total score: 9\n",
      "\n",
      "\n",
      "Home Page\n",
      "1. Play Missing Vowels Game\n",
      "2. View Score\n",
      "3. Logout\n",
      "Select an option: 3\n",
      "Logging out...\n",
      "\n",
      "\n",
      "1. Login\n",
      "2. Register\n",
      "3. Admin Login\n",
      "4. Exit\n",
      "Select an option: 4\n",
      "Exiting the system. Goodbye!\n"
     ]
    }
   ],
   "source": [
    "if __name__ == \"__main__\":\n",
    "    main()"
   ]
  }
 ],
 "metadata": {
  "kernelspec": {
   "display_name": "alleys",
   "language": "python",
   "name": "alleys"
  },
  "language_info": {
   "codemirror_mode": {
    "name": "ipython",
    "version": 3
   },
   "file_extension": ".py",
   "mimetype": "text/x-python",
   "name": "python",
   "nbconvert_exporter": "python",
   "pygments_lexer": "ipython3",
   "version": "3.8.20"
  }
 },
 "nbformat": 4,
 "nbformat_minor": 5
}
